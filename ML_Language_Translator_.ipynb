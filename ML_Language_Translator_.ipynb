{
  "nbformat": 4,
  "nbformat_minor": 0,
  "metadata": {
    "colab": {
      "name": "ML Language Translator .ipynb",
      "provenance": [],
      "collapsed_sections": [],
      "mount_file_id": "1-IwpiXuy9pqB77mboVyYt0_6SMjbXpio",
      "authorship_tag": "ABX9TyOPiIomZAWATFxWXwPVshw1",
      "include_colab_link": true
    },
    "kernelspec": {
      "name": "python3",
      "display_name": "Python 3"
    },
    "language_info": {
      "name": "python"
    }
  },
  "cells": [
    {
      "cell_type": "markdown",
      "metadata": {
        "id": "view-in-github",
        "colab_type": "text"
      },
      "source": [
        "<a href=\"https://colab.research.google.com/github/Rahulraj31/ML-Language-Translator/blob/main/ML_Language_Translator_.ipynb\" target=\"_parent\"><img src=\"https://colab.research.google.com/assets/colab-badge.svg\" alt=\"Open In Colab\"/></a>"
      ]
    },
    {
      "cell_type": "markdown",
      "metadata": {
        "id": "BOC6PvGVYnNC"
      },
      "source": [
        "# Machine Leanirng Language Translator \n",
        "\n",
        "**Dataset Link- http://www.manythings.org/anki/fra-eng.zip**"
      ]
    },
    {
      "cell_type": "code",
      "metadata": {
        "id": "gocNRGChYaRI"
      },
      "source": [
        "from tensorflow.keras.models import  Model\n",
        "from tensorflow.keras.layers import Input, LSTM,Dense \n",
        "import numpy as np"
      ],
      "execution_count": 1,
      "outputs": []
    },
    {
      "cell_type": "code",
      "metadata": {
        "id": "AcsKQg4ccz45",
        "colab": {
          "base_uri": "https://localhost:8080/",
          "height": 52
        },
        "outputId": "b81b999e-4fc0-40f9-d872-8091bb6f7233"
      },
      "source": [
        "\"\"\"from zipfile import ZipFile\n",
        "  \n",
        "file_name = \"/content/drive/MyDrive/fra-eng.zip\"\n",
        "  \n",
        "with ZipFile(file_name, 'r') as zip:\n",
        "    zip.extractall(\"/content\")\"\"\"\n",
        "   "
      ],
      "execution_count": 2,
      "outputs": [
        {
          "output_type": "execute_result",
          "data": {
            "application/vnd.google.colaboratory.intrinsic+json": {
              "type": "string"
            },
            "text/plain": [
              "'from zipfile import ZipFile\\n  \\nfile_name = \"/content/drive/MyDrive/fra-eng.zip\"\\n  \\nwith ZipFile(file_name, \\'r\\') as zip:\\n    zip.extractall(\"/content\")'"
            ]
          },
          "metadata": {
            "tags": []
          },
          "execution_count": 2
        }
      ]
    },
    {
      "cell_type": "code",
      "metadata": {
        "id": "dQ59qmEVazqn"
      },
      "source": [
        "batch_size=64   #batch size for training\n",
        "epochs =100     # no. of epochs  \n",
        "latent_dim=256    #dimension of the encoding space\n",
        "num_samples =10000    \n",
        "data_path=\"/content/fra.txt\""
      ],
      "execution_count": 3,
      "outputs": []
    },
    {
      "cell_type": "code",
      "metadata": {
        "id": "VBGJGH6cdK68"
      },
      "source": [
        "# Vectorize Data \n",
        "\n",
        "input_texts =[]\n",
        "target_texts =[]\n",
        "\n",
        "input_characters = set()\n",
        "target_characters = set()\n",
        "\n",
        "with open(data_path,'r',encoding='utf-8') as f:\n",
        "  lines=f.read().split('\\n')\n",
        "\n",
        "for line in lines[: min(num_samples,len(lines)-1)]:  \n",
        "  input_text,target_text, _ = line.split('\\t')\n",
        "\n",
        "  # We use \"tab\" as the start sequence character for the targets and \"\\n\" as end sequence  character\n",
        "  target_text= '\\t' + target_text + '\\n'\n",
        "  input_texts.append(input_text)\n",
        "  target_texts.append(target_text)\n",
        "\n",
        "  for char in input_text:\n",
        "    if char not in input_characters:\n",
        "      input_characters.add(char)\n",
        "\n",
        "  for char in target_text:\n",
        "    if char not in target_characters:\n",
        "      target_characters.add(char)     \n"
      ],
      "execution_count": 4,
      "outputs": []
    },
    {
      "cell_type": "code",
      "metadata": {
        "id": "gPkLNyD1hNNU"
      },
      "source": [
        "input_characters= sorted(list(input_characters))\n",
        "target_characters=sorted(list(target_characters))\n",
        "num_encoder_tokens=len(input_characters)\n",
        "num_decoder_tokens=len(target_characters)\n",
        "\n",
        "max_encoder_seq_length = max([len(txt) for txt in input_texts])\n",
        "max_decoder_seq_length =max([len(txt) for txt in target_texts])"
      ],
      "execution_count": 5,
      "outputs": []
    },
    {
      "cell_type": "code",
      "metadata": {
        "id": "gJvPLVsmigfm",
        "colab": {
          "base_uri": "https://localhost:8080/"
        },
        "outputId": "2e53de07-9af9-4db4-ff45-06d1cc6fa641"
      },
      "source": [
        "print(\"Numbers of samples:\",len(input_texts))\n",
        "print(\"Number of unique input tokens\",num_encoder_tokens)\n",
        "print(\"Number of unique target tokens\",num_decoder_tokens)\n",
        "print(\"Max encoder seq length\",max_encoder_seq_length)\n",
        "print(\"Max decoder seq length\",max_decoder_seq_length)"
      ],
      "execution_count": 6,
      "outputs": [
        {
          "output_type": "stream",
          "text": [
            "Numbers of samples: 10000\n",
            "Number of unique input tokens 71\n",
            "Number of unique target tokens 92\n",
            "Max encoder seq length 15\n",
            "Max decoder seq length 59\n"
          ],
          "name": "stdout"
        }
      ]
    },
    {
      "cell_type": "code",
      "metadata": {
        "id": "AaShSjEAmNK7",
        "colab": {
          "base_uri": "https://localhost:8080/"
        },
        "outputId": "a97a4635-fe2c-4205-a4c9-4ab38ff89a33"
      },
      "source": [
        "input_characters[:20]"
      ],
      "execution_count": 7,
      "outputs": [
        {
          "output_type": "execute_result",
          "data": {
            "text/plain": [
              "[' ',\n",
              " '!',\n",
              " '\"',\n",
              " '$',\n",
              " '%',\n",
              " '&',\n",
              " \"'\",\n",
              " ',',\n",
              " '-',\n",
              " '.',\n",
              " '0',\n",
              " '1',\n",
              " '2',\n",
              " '3',\n",
              " '5',\n",
              " '7',\n",
              " '8',\n",
              " '9',\n",
              " ':',\n",
              " '?']"
            ]
          },
          "metadata": {
            "tags": []
          },
          "execution_count": 7
        }
      ]
    },
    {
      "cell_type": "code",
      "metadata": {
        "id": "Nd_F03W4oUXC",
        "colab": {
          "base_uri": "https://localhost:8080/"
        },
        "outputId": "59693fb3-83c5-4ee2-e0e9-a3a29c545f07"
      },
      "source": [
        "target_texts[:10]"
      ],
      "execution_count": 8,
      "outputs": [
        {
          "output_type": "execute_result",
          "data": {
            "text/plain": [
              "['\\tVa !\\n',\n",
              " '\\tMarche.\\n',\n",
              " '\\tBouge !\\n',\n",
              " '\\tSalut !\\n',\n",
              " '\\tSalut.\\n',\n",
              " '\\tCours\\u202f!\\n',\n",
              " '\\tCourez\\u202f!\\n',\n",
              " '\\tPrenez vos jambes à vos cous !\\n',\n",
              " '\\tFile !\\n',\n",
              " '\\tFilez !\\n']"
            ]
          },
          "metadata": {
            "tags": []
          },
          "execution_count": 8
        }
      ]
    },
    {
      "cell_type": "code",
      "metadata": {
        "id": "JyCEcut4oX0q",
        "colab": {
          "base_uri": "https://localhost:8080/"
        },
        "outputId": "896ac18b-82c3-4c8c-be07-2a3bf9173fa7"
      },
      "source": [
        "target_characters[:20]"
      ],
      "execution_count": 9,
      "outputs": [
        {
          "output_type": "execute_result",
          "data": {
            "text/plain": [
              "['\\t',\n",
              " '\\n',\n",
              " ' ',\n",
              " '!',\n",
              " '%',\n",
              " '&',\n",
              " \"'\",\n",
              " '(',\n",
              " ')',\n",
              " ',',\n",
              " '-',\n",
              " '.',\n",
              " '0',\n",
              " '1',\n",
              " '2',\n",
              " '3',\n",
              " '5',\n",
              " '8',\n",
              " '9',\n",
              " ':']"
            ]
          },
          "metadata": {
            "tags": []
          },
          "execution_count": 9
        }
      ]
    },
    {
      "cell_type": "code",
      "metadata": {
        "id": "QWQGBk9cozpo"
      },
      "source": [
        "input_token_index =dict([(char,i) for i,char in enumerate(input_characters)])\n",
        "target_token_index =dict([(char,i) for i,char in enumerate(target_characters)])"
      ],
      "execution_count": 10,
      "outputs": []
    },
    {
      "cell_type": "code",
      "metadata": {
        "id": "vCdg-dqZpR69",
        "colab": {
          "base_uri": "https://localhost:8080/"
        },
        "outputId": "03d1883a-11ab-4d71-bf77-8e0b7dce4626"
      },
      "source": [
        "input_token_index"
      ],
      "execution_count": 11,
      "outputs": [
        {
          "output_type": "execute_result",
          "data": {
            "text/plain": [
              "{' ': 0,\n",
              " '!': 1,\n",
              " '\"': 2,\n",
              " '$': 3,\n",
              " '%': 4,\n",
              " '&': 5,\n",
              " \"'\": 6,\n",
              " ',': 7,\n",
              " '-': 8,\n",
              " '.': 9,\n",
              " '0': 10,\n",
              " '1': 11,\n",
              " '2': 12,\n",
              " '3': 13,\n",
              " '5': 14,\n",
              " '7': 15,\n",
              " '8': 16,\n",
              " '9': 17,\n",
              " ':': 18,\n",
              " '?': 19,\n",
              " 'A': 20,\n",
              " 'B': 21,\n",
              " 'C': 22,\n",
              " 'D': 23,\n",
              " 'E': 24,\n",
              " 'F': 25,\n",
              " 'G': 26,\n",
              " 'H': 27,\n",
              " 'I': 28,\n",
              " 'J': 29,\n",
              " 'K': 30,\n",
              " 'L': 31,\n",
              " 'M': 32,\n",
              " 'N': 33,\n",
              " 'O': 34,\n",
              " 'P': 35,\n",
              " 'Q': 36,\n",
              " 'R': 37,\n",
              " 'S': 38,\n",
              " 'T': 39,\n",
              " 'U': 40,\n",
              " 'V': 41,\n",
              " 'W': 42,\n",
              " 'Y': 43,\n",
              " 'a': 44,\n",
              " 'b': 45,\n",
              " 'c': 46,\n",
              " 'd': 47,\n",
              " 'e': 48,\n",
              " 'f': 49,\n",
              " 'g': 50,\n",
              " 'h': 51,\n",
              " 'i': 52,\n",
              " 'j': 53,\n",
              " 'k': 54,\n",
              " 'l': 55,\n",
              " 'm': 56,\n",
              " 'n': 57,\n",
              " 'o': 58,\n",
              " 'p': 59,\n",
              " 'q': 60,\n",
              " 'r': 61,\n",
              " 's': 62,\n",
              " 't': 63,\n",
              " 'u': 64,\n",
              " 'v': 65,\n",
              " 'w': 66,\n",
              " 'x': 67,\n",
              " 'y': 68,\n",
              " 'z': 69,\n",
              " 'é': 70}"
            ]
          },
          "metadata": {
            "tags": []
          },
          "execution_count": 11
        }
      ]
    },
    {
      "cell_type": "code",
      "metadata": {
        "id": "9FFYMYX9pR3J",
        "colab": {
          "base_uri": "https://localhost:8080/"
        },
        "outputId": "21f09da6-fabc-442c-d435-fbf1d8536701"
      },
      "source": [
        "target_token_index"
      ],
      "execution_count": 12,
      "outputs": [
        {
          "output_type": "execute_result",
          "data": {
            "text/plain": [
              "{'\\t': 0,\n",
              " '\\n': 1,\n",
              " ' ': 2,\n",
              " '!': 3,\n",
              " '%': 4,\n",
              " '&': 5,\n",
              " \"'\": 6,\n",
              " '(': 7,\n",
              " ')': 8,\n",
              " ',': 9,\n",
              " '-': 10,\n",
              " '.': 11,\n",
              " '0': 12,\n",
              " '1': 13,\n",
              " '2': 14,\n",
              " '3': 15,\n",
              " '5': 16,\n",
              " '8': 17,\n",
              " '9': 18,\n",
              " ':': 19,\n",
              " '?': 20,\n",
              " 'A': 21,\n",
              " 'B': 22,\n",
              " 'C': 23,\n",
              " 'D': 24,\n",
              " 'E': 25,\n",
              " 'F': 26,\n",
              " 'G': 27,\n",
              " 'H': 28,\n",
              " 'I': 29,\n",
              " 'J': 30,\n",
              " 'K': 31,\n",
              " 'L': 32,\n",
              " 'M': 33,\n",
              " 'N': 34,\n",
              " 'O': 35,\n",
              " 'P': 36,\n",
              " 'Q': 37,\n",
              " 'R': 38,\n",
              " 'S': 39,\n",
              " 'T': 40,\n",
              " 'U': 41,\n",
              " 'V': 42,\n",
              " 'Y': 43,\n",
              " 'a': 44,\n",
              " 'b': 45,\n",
              " 'c': 46,\n",
              " 'd': 47,\n",
              " 'e': 48,\n",
              " 'f': 49,\n",
              " 'g': 50,\n",
              " 'h': 51,\n",
              " 'i': 52,\n",
              " 'j': 53,\n",
              " 'k': 54,\n",
              " 'l': 55,\n",
              " 'm': 56,\n",
              " 'n': 57,\n",
              " 'o': 58,\n",
              " 'p': 59,\n",
              " 'q': 60,\n",
              " 'r': 61,\n",
              " 's': 62,\n",
              " 't': 63,\n",
              " 'u': 64,\n",
              " 'v': 65,\n",
              " 'w': 66,\n",
              " 'x': 67,\n",
              " 'y': 68,\n",
              " 'z': 69,\n",
              " '\\xa0': 70,\n",
              " '«': 71,\n",
              " '»': 72,\n",
              " 'À': 73,\n",
              " 'Ç': 74,\n",
              " 'É': 75,\n",
              " 'Ê': 76,\n",
              " 'à': 77,\n",
              " 'â': 78,\n",
              " 'ç': 79,\n",
              " 'è': 80,\n",
              " 'é': 81,\n",
              " 'ê': 82,\n",
              " 'î': 83,\n",
              " 'ï': 84,\n",
              " 'ô': 85,\n",
              " 'ù': 86,\n",
              " 'û': 87,\n",
              " 'œ': 88,\n",
              " '\\u2009': 89,\n",
              " '’': 90,\n",
              " '\\u202f': 91}"
            ]
          },
          "metadata": {
            "tags": []
          },
          "execution_count": 12
        }
      ]
    },
    {
      "cell_type": "code",
      "metadata": {
        "id": "Y_P8AhVipRzv"
      },
      "source": [
        "# Preparation for one hot encoding\n",
        "encoder_input_data=np.zeros(\n",
        "    (len(input_texts),max_encoder_seq_length,num_encoder_tokens),dtype='float32'\n",
        ")\n",
        "\n",
        "decoder_input_data=np.zeros(\n",
        "    (len(input_texts),max_decoder_seq_length,num_decoder_tokens),dtype='float32'\n",
        ")\n",
        "\n",
        "decoder_target_data=np.zeros(\n",
        "    (len(input_texts),max_decoder_seq_length,num_decoder_tokens),dtype='float32'\n",
        ")"
      ],
      "execution_count": 13,
      "outputs": []
    },
    {
      "cell_type": "code",
      "metadata": {
        "id": "1NyDPM9IpRsR"
      },
      "source": [
        "# Performing One hot encoding\n",
        "for i ,(input_text,target_text) in enumerate(zip(input_texts, target_texts)):\n",
        "  for t, char in enumerate(input_text):\n",
        "      encoder_input_data[i,t,input_token_index[char]] = 1.\n",
        "  encoder_input_data[i,t+1:,input_token_index[' ']] =1.\n",
        "  for t, char in enumerate(target_text):\n",
        "    #decoder_target_data is ahead of decoder_input_data by one timesetep\n",
        "      decoder_input_data[i,t,target_token_index[char]] =1.\n",
        "      if t >0:\n",
        "      # decoder target data will be ahead by one timestep \n",
        "      #and will not include the start character\n",
        "          decoder_target_data[i,t-1,target_token_index[char]] = 1.\n",
        "\n",
        "  decoder_input_data[i,t+1:,target_token_index[' ']] = 1.\n",
        "  decoder_target_data[i,t:,target_token_index[' ']] = 1.\n"
      ],
      "execution_count": 14,
      "outputs": []
    },
    {
      "cell_type": "code",
      "metadata": {
        "id": "ary89U900GAm",
        "colab": {
          "base_uri": "https://localhost:8080/"
        },
        "outputId": "db503e69-f6a5-45e5-fe2a-cf27a81efbf8"
      },
      "source": [
        "encoder_input_data[0].shape,decoder_input_data[0].shape"
      ],
      "execution_count": 15,
      "outputs": [
        {
          "output_type": "execute_result",
          "data": {
            "text/plain": [
              "((15, 71), (59, 92))"
            ]
          },
          "metadata": {
            "tags": []
          },
          "execution_count": 15
        }
      ]
    },
    {
      "cell_type": "code",
      "metadata": {
        "id": "VKQUPxuG0OAJ"
      },
      "source": [
        "# Define input Sequence \n",
        "\n",
        "encoder_inputs = Input(shape=(None,num_encoder_tokens))\n",
        "encoder=LSTM(latent_dim,return_state=True)\n",
        "encoder_outputs, state_h, state_c = encoder(encoder_inputs)\n",
        "\n",
        "# We discard encoder outputs and only keep state \n",
        "encoder_states = [state_h,state_c]"
      ],
      "execution_count": 16,
      "outputs": []
    },
    {
      "cell_type": "code",
      "metadata": {
        "id": "sN94jY9L1hht"
      },
      "source": [
        "# Set up the decoder, using `encoder_states` as initial state.\n",
        "decoder_inputs = Input(shape=(None, num_decoder_tokens))\n",
        "\n",
        "# We set up our decoder to return full output sequences,\n",
        "# and to return internal states as well. We don't use the \n",
        "# return states in the training model, but we will use them in inference.\n",
        "decoder_lstm = LSTM(latent_dim, return_sequences=True, return_state=True)\n",
        "\n",
        "decoder_outputs, _, _ = decoder_lstm(decoder_inputs,\n",
        "                                     initial_state=encoder_states)\n",
        "\n",
        "decoder_dense = Dense(num_decoder_tokens, activation='softmax')\n",
        "decoder_outputs = decoder_dense(decoder_outputs)\n",
        "\n"
      ],
      "execution_count": 17,
      "outputs": []
    },
    {
      "cell_type": "code",
      "metadata": {
        "colab": {
          "base_uri": "https://localhost:8080/"
        },
        "id": "kf5oP-FJ1hWp",
        "outputId": "de624740-17bb-4181-a6f0-7473ef07b703"
      },
      "source": [
        "# Define the model that will turn\n",
        "# `encoder_input_data` & `decoder_input_data` into `decoder_target_data`\n",
        "model = Model([encoder_inputs, decoder_inputs], decoder_outputs)\n",
        "\n",
        "# Run training\n",
        "model.compile(optimizer='rmsprop', loss='categorical_crossentropy',metrics=['accuracy'])\n",
        "model.fit([encoder_input_data, decoder_input_data], decoder_target_data,\n",
        "          batch_size=batch_size,\n",
        "          epochs=epochs,\n",
        "          validation_split=0.2,verbose=1)"
      ],
      "execution_count": 18,
      "outputs": [
        {
          "output_type": "stream",
          "text": [
            "Epoch 1/100\n",
            "125/125 [==============================] - 45s 340ms/step - loss: 1.1347 - accuracy: 0.7371 - val_loss: 1.0248 - val_accuracy: 0.7108\n",
            "Epoch 2/100\n",
            "125/125 [==============================] - 42s 334ms/step - loss: 0.8093 - accuracy: 0.7803 - val_loss: 0.8275 - val_accuracy: 0.7718\n",
            "Epoch 3/100\n",
            "125/125 [==============================] - 42s 334ms/step - loss: 0.6546 - accuracy: 0.8171 - val_loss: 0.6977 - val_accuracy: 0.7971\n",
            "Epoch 4/100\n",
            "125/125 [==============================] - 41s 332ms/step - loss: 0.5714 - accuracy: 0.8338 - val_loss: 0.6312 - val_accuracy: 0.8159\n",
            "Epoch 5/100\n",
            "125/125 [==============================] - 41s 331ms/step - loss: 0.5251 - accuracy: 0.8456 - val_loss: 0.5918 - val_accuracy: 0.8269\n",
            "Epoch 6/100\n",
            "125/125 [==============================] - 41s 330ms/step - loss: 0.4886 - accuracy: 0.8560 - val_loss: 0.5656 - val_accuracy: 0.8343\n",
            "Epoch 7/100\n",
            "125/125 [==============================] - 41s 329ms/step - loss: 0.4602 - accuracy: 0.8644 - val_loss: 0.5397 - val_accuracy: 0.8419\n",
            "Epoch 8/100\n",
            "125/125 [==============================] - 41s 330ms/step - loss: 0.4373 - accuracy: 0.8699 - val_loss: 0.5212 - val_accuracy: 0.8456\n",
            "Epoch 9/100\n",
            "125/125 [==============================] - 41s 332ms/step - loss: 0.4174 - accuracy: 0.8753 - val_loss: 0.5043 - val_accuracy: 0.8509\n",
            "Epoch 10/100\n",
            "125/125 [==============================] - 41s 332ms/step - loss: 0.3993 - accuracy: 0.8802 - val_loss: 0.4943 - val_accuracy: 0.8541\n",
            "Epoch 11/100\n",
            "125/125 [==============================] - 42s 334ms/step - loss: 0.3824 - accuracy: 0.8854 - val_loss: 0.4802 - val_accuracy: 0.8592\n",
            "Epoch 12/100\n",
            "125/125 [==============================] - 41s 331ms/step - loss: 0.3672 - accuracy: 0.8898 - val_loss: 0.4722 - val_accuracy: 0.8623\n",
            "Epoch 13/100\n",
            "125/125 [==============================] - 41s 331ms/step - loss: 0.3528 - accuracy: 0.8941 - val_loss: 0.4651 - val_accuracy: 0.8639\n",
            "Epoch 14/100\n",
            "125/125 [==============================] - 41s 330ms/step - loss: 0.3395 - accuracy: 0.8977 - val_loss: 0.4649 - val_accuracy: 0.8645\n",
            "Epoch 15/100\n",
            "125/125 [==============================] - 41s 331ms/step - loss: 0.3268 - accuracy: 0.9018 - val_loss: 0.4554 - val_accuracy: 0.8681\n",
            "Epoch 16/100\n",
            "125/125 [==============================] - 41s 332ms/step - loss: 0.3147 - accuracy: 0.9053 - val_loss: 0.4518 - val_accuracy: 0.8690\n",
            "Epoch 17/100\n",
            "125/125 [==============================] - 42s 333ms/step - loss: 0.3035 - accuracy: 0.9089 - val_loss: 0.4493 - val_accuracy: 0.8697\n",
            "Epoch 18/100\n",
            "125/125 [==============================] - 41s 330ms/step - loss: 0.2929 - accuracy: 0.9120 - val_loss: 0.4533 - val_accuracy: 0.8701\n",
            "Epoch 19/100\n",
            "125/125 [==============================] - 41s 331ms/step - loss: 0.2825 - accuracy: 0.9150 - val_loss: 0.4456 - val_accuracy: 0.8731\n",
            "Epoch 20/100\n",
            "125/125 [==============================] - 41s 331ms/step - loss: 0.2725 - accuracy: 0.9179 - val_loss: 0.4470 - val_accuracy: 0.8729\n",
            "Epoch 21/100\n",
            "125/125 [==============================] - 41s 331ms/step - loss: 0.2631 - accuracy: 0.9206 - val_loss: 0.4457 - val_accuracy: 0.8735\n",
            "Epoch 22/100\n",
            "125/125 [==============================] - 41s 330ms/step - loss: 0.2545 - accuracy: 0.9230 - val_loss: 0.4440 - val_accuracy: 0.8741\n",
            "Epoch 23/100\n",
            "125/125 [==============================] - 41s 331ms/step - loss: 0.2454 - accuracy: 0.9259 - val_loss: 0.4466 - val_accuracy: 0.8743\n",
            "Epoch 24/100\n",
            "125/125 [==============================] - 41s 331ms/step - loss: 0.2371 - accuracy: 0.9283 - val_loss: 0.4499 - val_accuracy: 0.8737\n",
            "Epoch 25/100\n",
            "125/125 [==============================] - 41s 330ms/step - loss: 0.2294 - accuracy: 0.9306 - val_loss: 0.4533 - val_accuracy: 0.8737\n",
            "Epoch 26/100\n",
            "125/125 [==============================] - 41s 330ms/step - loss: 0.2224 - accuracy: 0.9326 - val_loss: 0.4539 - val_accuracy: 0.8755\n",
            "Epoch 27/100\n",
            "125/125 [==============================] - 41s 331ms/step - loss: 0.2148 - accuracy: 0.9345 - val_loss: 0.4585 - val_accuracy: 0.8750\n",
            "Epoch 28/100\n",
            "125/125 [==============================] - 42s 332ms/step - loss: 0.2082 - accuracy: 0.9366 - val_loss: 0.4555 - val_accuracy: 0.8756\n",
            "Epoch 29/100\n",
            "125/125 [==============================] - 41s 331ms/step - loss: 0.2014 - accuracy: 0.9389 - val_loss: 0.4626 - val_accuracy: 0.8756\n",
            "Epoch 30/100\n",
            "125/125 [==============================] - 42s 333ms/step - loss: 0.1957 - accuracy: 0.9402 - val_loss: 0.4695 - val_accuracy: 0.8737\n",
            "Epoch 31/100\n",
            "125/125 [==============================] - 41s 332ms/step - loss: 0.1892 - accuracy: 0.9422 - val_loss: 0.4692 - val_accuracy: 0.8756\n",
            "Epoch 32/100\n",
            "125/125 [==============================] - 41s 332ms/step - loss: 0.1836 - accuracy: 0.9439 - val_loss: 0.4756 - val_accuracy: 0.8754\n",
            "Epoch 33/100\n",
            "125/125 [==============================] - 41s 332ms/step - loss: 0.1781 - accuracy: 0.9455 - val_loss: 0.4771 - val_accuracy: 0.8749\n",
            "Epoch 34/100\n",
            "125/125 [==============================] - 41s 331ms/step - loss: 0.1727 - accuracy: 0.9471 - val_loss: 0.4828 - val_accuracy: 0.8749\n",
            "Epoch 35/100\n",
            "125/125 [==============================] - 41s 332ms/step - loss: 0.1679 - accuracy: 0.9484 - val_loss: 0.4826 - val_accuracy: 0.8746\n",
            "Epoch 36/100\n",
            "125/125 [==============================] - 42s 334ms/step - loss: 0.1629 - accuracy: 0.9501 - val_loss: 0.4872 - val_accuracy: 0.8761\n",
            "Epoch 37/100\n",
            "125/125 [==============================] - 42s 339ms/step - loss: 0.1581 - accuracy: 0.9515 - val_loss: 0.4943 - val_accuracy: 0.8746\n",
            "Epoch 38/100\n",
            "125/125 [==============================] - 42s 339ms/step - loss: 0.1535 - accuracy: 0.9529 - val_loss: 0.5024 - val_accuracy: 0.8748\n",
            "Epoch 39/100\n",
            "125/125 [==============================] - 42s 338ms/step - loss: 0.1493 - accuracy: 0.9542 - val_loss: 0.5023 - val_accuracy: 0.8760\n",
            "Epoch 40/100\n",
            "125/125 [==============================] - 42s 335ms/step - loss: 0.1454 - accuracy: 0.9554 - val_loss: 0.5109 - val_accuracy: 0.8754\n",
            "Epoch 41/100\n",
            "125/125 [==============================] - 41s 331ms/step - loss: 0.1417 - accuracy: 0.9562 - val_loss: 0.5132 - val_accuracy: 0.8748\n",
            "Epoch 42/100\n",
            "125/125 [==============================] - 41s 328ms/step - loss: 0.1379 - accuracy: 0.9575 - val_loss: 0.5140 - val_accuracy: 0.8745\n",
            "Epoch 43/100\n",
            "125/125 [==============================] - 41s 324ms/step - loss: 0.1342 - accuracy: 0.9585 - val_loss: 0.5240 - val_accuracy: 0.8743\n",
            "Epoch 44/100\n",
            "125/125 [==============================] - 41s 326ms/step - loss: 0.1305 - accuracy: 0.9596 - val_loss: 0.5249 - val_accuracy: 0.8746\n",
            "Epoch 45/100\n",
            "125/125 [==============================] - 41s 326ms/step - loss: 0.1274 - accuracy: 0.9607 - val_loss: 0.5362 - val_accuracy: 0.8744\n",
            "Epoch 46/100\n",
            "125/125 [==============================] - 41s 325ms/step - loss: 0.1242 - accuracy: 0.9614 - val_loss: 0.5367 - val_accuracy: 0.8747\n",
            "Epoch 47/100\n",
            "125/125 [==============================] - 41s 325ms/step - loss: 0.1211 - accuracy: 0.9625 - val_loss: 0.5448 - val_accuracy: 0.8739\n",
            "Epoch 48/100\n",
            "125/125 [==============================] - 41s 326ms/step - loss: 0.1184 - accuracy: 0.9631 - val_loss: 0.5535 - val_accuracy: 0.8731\n",
            "Epoch 49/100\n",
            "125/125 [==============================] - 41s 327ms/step - loss: 0.1153 - accuracy: 0.9639 - val_loss: 0.5512 - val_accuracy: 0.8738\n",
            "Epoch 50/100\n",
            "125/125 [==============================] - 41s 329ms/step - loss: 0.1127 - accuracy: 0.9648 - val_loss: 0.5569 - val_accuracy: 0.8739\n",
            "Epoch 51/100\n",
            "125/125 [==============================] - 41s 326ms/step - loss: 0.1098 - accuracy: 0.9656 - val_loss: 0.5621 - val_accuracy: 0.8735\n",
            "Epoch 52/100\n",
            "125/125 [==============================] - 40s 324ms/step - loss: 0.1075 - accuracy: 0.9664 - val_loss: 0.5678 - val_accuracy: 0.8739\n",
            "Epoch 53/100\n",
            "125/125 [==============================] - 41s 325ms/step - loss: 0.1053 - accuracy: 0.9668 - val_loss: 0.5671 - val_accuracy: 0.8741\n",
            "Epoch 54/100\n",
            "125/125 [==============================] - 41s 327ms/step - loss: 0.1026 - accuracy: 0.9677 - val_loss: 0.5778 - val_accuracy: 0.8732\n",
            "Epoch 55/100\n",
            "125/125 [==============================] - 41s 328ms/step - loss: 0.1005 - accuracy: 0.9683 - val_loss: 0.5852 - val_accuracy: 0.8727\n",
            "Epoch 56/100\n",
            "125/125 [==============================] - 40s 323ms/step - loss: 0.0981 - accuracy: 0.9692 - val_loss: 0.5894 - val_accuracy: 0.8728\n",
            "Epoch 57/100\n",
            "125/125 [==============================] - 40s 324ms/step - loss: 0.0964 - accuracy: 0.9694 - val_loss: 0.5905 - val_accuracy: 0.8728\n",
            "Epoch 58/100\n",
            "125/125 [==============================] - 41s 325ms/step - loss: 0.0943 - accuracy: 0.9702 - val_loss: 0.5934 - val_accuracy: 0.8737\n",
            "Epoch 59/100\n",
            "125/125 [==============================] - 41s 325ms/step - loss: 0.0924 - accuracy: 0.9705 - val_loss: 0.6009 - val_accuracy: 0.8731\n",
            "Epoch 60/100\n",
            "125/125 [==============================] - 41s 325ms/step - loss: 0.0905 - accuracy: 0.9711 - val_loss: 0.6070 - val_accuracy: 0.8724\n",
            "Epoch 61/100\n",
            "125/125 [==============================] - 41s 324ms/step - loss: 0.0885 - accuracy: 0.9717 - val_loss: 0.6073 - val_accuracy: 0.8731\n",
            "Epoch 62/100\n",
            "125/125 [==============================] - 40s 324ms/step - loss: 0.0867 - accuracy: 0.9723 - val_loss: 0.6089 - val_accuracy: 0.8738\n",
            "Epoch 63/100\n",
            "125/125 [==============================] - 41s 325ms/step - loss: 0.0850 - accuracy: 0.9728 - val_loss: 0.6241 - val_accuracy: 0.8720\n",
            "Epoch 64/100\n",
            "125/125 [==============================] - 41s 326ms/step - loss: 0.0834 - accuracy: 0.9730 - val_loss: 0.6241 - val_accuracy: 0.8717\n",
            "Epoch 65/100\n",
            "125/125 [==============================] - 41s 326ms/step - loss: 0.0818 - accuracy: 0.9735 - val_loss: 0.6275 - val_accuracy: 0.8717\n",
            "Epoch 66/100\n",
            "125/125 [==============================] - 41s 325ms/step - loss: 0.0803 - accuracy: 0.9740 - val_loss: 0.6302 - val_accuracy: 0.8714\n",
            "Epoch 67/100\n",
            "125/125 [==============================] - 41s 331ms/step - loss: 0.0786 - accuracy: 0.9746 - val_loss: 0.6356 - val_accuracy: 0.8723\n",
            "Epoch 68/100\n",
            "125/125 [==============================] - 42s 336ms/step - loss: 0.0773 - accuracy: 0.9749 - val_loss: 0.6359 - val_accuracy: 0.8731\n",
            "Epoch 69/100\n",
            "125/125 [==============================] - 42s 335ms/step - loss: 0.0762 - accuracy: 0.9752 - val_loss: 0.6472 - val_accuracy: 0.8716\n",
            "Epoch 70/100\n",
            "125/125 [==============================] - 42s 332ms/step - loss: 0.0742 - accuracy: 0.9756 - val_loss: 0.6508 - val_accuracy: 0.8722\n",
            "Epoch 71/100\n",
            "125/125 [==============================] - 42s 335ms/step - loss: 0.0735 - accuracy: 0.9758 - val_loss: 0.6543 - val_accuracy: 0.8713\n",
            "Epoch 72/100\n",
            "125/125 [==============================] - 42s 332ms/step - loss: 0.0722 - accuracy: 0.9762 - val_loss: 0.6535 - val_accuracy: 0.8730\n",
            "Epoch 73/100\n",
            "125/125 [==============================] - 41s 329ms/step - loss: 0.0707 - accuracy: 0.9766 - val_loss: 0.6568 - val_accuracy: 0.8723\n",
            "Epoch 74/100\n",
            "125/125 [==============================] - 41s 332ms/step - loss: 0.0693 - accuracy: 0.9770 - val_loss: 0.6666 - val_accuracy: 0.8714\n",
            "Epoch 75/100\n",
            "125/125 [==============================] - 42s 334ms/step - loss: 0.0681 - accuracy: 0.9775 - val_loss: 0.6738 - val_accuracy: 0.8714\n",
            "Epoch 76/100\n",
            "125/125 [==============================] - 41s 331ms/step - loss: 0.0669 - accuracy: 0.9778 - val_loss: 0.6763 - val_accuracy: 0.8720\n",
            "Epoch 77/100\n",
            "125/125 [==============================] - 41s 331ms/step - loss: 0.0661 - accuracy: 0.9780 - val_loss: 0.6780 - val_accuracy: 0.8717\n",
            "Epoch 78/100\n",
            "125/125 [==============================] - 41s 331ms/step - loss: 0.0648 - accuracy: 0.9783 - val_loss: 0.6816 - val_accuracy: 0.8717\n",
            "Epoch 79/100\n",
            "125/125 [==============================] - 41s 332ms/step - loss: 0.0639 - accuracy: 0.9785 - val_loss: 0.6867 - val_accuracy: 0.8717\n",
            "Epoch 80/100\n",
            "125/125 [==============================] - 41s 332ms/step - loss: 0.0630 - accuracy: 0.9789 - val_loss: 0.6857 - val_accuracy: 0.8715\n",
            "Epoch 81/100\n",
            "125/125 [==============================] - 41s 332ms/step - loss: 0.0617 - accuracy: 0.9794 - val_loss: 0.6938 - val_accuracy: 0.8714\n",
            "Epoch 82/100\n",
            "125/125 [==============================] - 42s 333ms/step - loss: 0.0608 - accuracy: 0.9796 - val_loss: 0.6959 - val_accuracy: 0.8715\n",
            "Epoch 83/100\n",
            "125/125 [==============================] - 42s 333ms/step - loss: 0.0597 - accuracy: 0.9798 - val_loss: 0.7002 - val_accuracy: 0.8714\n",
            "Epoch 84/100\n",
            "125/125 [==============================] - 41s 332ms/step - loss: 0.0588 - accuracy: 0.9800 - val_loss: 0.7075 - val_accuracy: 0.8711\n",
            "Epoch 85/100\n",
            "125/125 [==============================] - 41s 332ms/step - loss: 0.0581 - accuracy: 0.9801 - val_loss: 0.7100 - val_accuracy: 0.8709\n",
            "Epoch 86/100\n",
            "125/125 [==============================] - 42s 335ms/step - loss: 0.0569 - accuracy: 0.9806 - val_loss: 0.7159 - val_accuracy: 0.8712\n",
            "Epoch 87/100\n",
            "125/125 [==============================] - 42s 333ms/step - loss: 0.0563 - accuracy: 0.9808 - val_loss: 0.7232 - val_accuracy: 0.8699\n",
            "Epoch 88/100\n",
            "125/125 [==============================] - 42s 335ms/step - loss: 0.0559 - accuracy: 0.9807 - val_loss: 0.7159 - val_accuracy: 0.8714\n",
            "Epoch 89/100\n",
            "125/125 [==============================] - 42s 336ms/step - loss: 0.0547 - accuracy: 0.9812 - val_loss: 0.7237 - val_accuracy: 0.8707\n",
            "Epoch 90/100\n",
            "125/125 [==============================] - 41s 331ms/step - loss: 0.0540 - accuracy: 0.9814 - val_loss: 0.7201 - val_accuracy: 0.8708\n",
            "Epoch 91/100\n",
            "125/125 [==============================] - 41s 331ms/step - loss: 0.0534 - accuracy: 0.9815 - val_loss: 0.7264 - val_accuracy: 0.8711\n",
            "Epoch 92/100\n",
            "125/125 [==============================] - 42s 332ms/step - loss: 0.0528 - accuracy: 0.9817 - val_loss: 0.7341 - val_accuracy: 0.8714\n",
            "Epoch 93/100\n",
            "125/125 [==============================] - 41s 332ms/step - loss: 0.0519 - accuracy: 0.9820 - val_loss: 0.7356 - val_accuracy: 0.8704\n",
            "Epoch 94/100\n",
            "125/125 [==============================] - 41s 332ms/step - loss: 0.0514 - accuracy: 0.9820 - val_loss: 0.7436 - val_accuracy: 0.8709\n",
            "Epoch 95/100\n",
            "125/125 [==============================] - 41s 332ms/step - loss: 0.0506 - accuracy: 0.9823 - val_loss: 0.7441 - val_accuracy: 0.8706\n",
            "Epoch 96/100\n",
            "125/125 [==============================] - 41s 330ms/step - loss: 0.0498 - accuracy: 0.9826 - val_loss: 0.7568 - val_accuracy: 0.8698\n",
            "Epoch 97/100\n",
            "125/125 [==============================] - 41s 331ms/step - loss: 0.0495 - accuracy: 0.9826 - val_loss: 0.7565 - val_accuracy: 0.8704\n",
            "Epoch 98/100\n",
            "125/125 [==============================] - 42s 336ms/step - loss: 0.0487 - accuracy: 0.9828 - val_loss: 0.7491 - val_accuracy: 0.8709\n",
            "Epoch 99/100\n",
            "125/125 [==============================] - 41s 332ms/step - loss: 0.0481 - accuracy: 0.9831 - val_loss: 0.7523 - val_accuracy: 0.8707\n",
            "Epoch 100/100\n",
            "125/125 [==============================] - 41s 332ms/step - loss: 0.0474 - accuracy: 0.9834 - val_loss: 0.7591 - val_accuracy: 0.8708\n"
          ],
          "name": "stdout"
        },
        {
          "output_type": "execute_result",
          "data": {
            "text/plain": [
              "<tensorflow.python.keras.callbacks.History at 0x7f442dec7d50>"
            ]
          },
          "metadata": {
            "tags": []
          },
          "execution_count": 18
        }
      ]
    },
    {
      "cell_type": "markdown",
      "metadata": {
        "id": "OFhwmfIQ3UhI"
      },
      "source": [
        "**To decode a test sentence, we will repeatedly:**\n",
        "\n",
        "1) Encode the input sentence and retrieve the initial decoder state\n",
        "\n",
        "2) Run one step of the decoder with this initial state and a \"start of sequence\" token as target. The output will be the next target character.\n",
        "\n",
        "3) Append the target character predicted and repeat."
      ]
    },
    {
      "cell_type": "code",
      "metadata": {
        "id": "K7u-UudU1hFm",
        "colab": {
          "base_uri": "https://localhost:8080/"
        },
        "outputId": "bceb3da2-eba2-4ca2-df94-c6af330624e8"
      },
      "source": [
        "encoder_model = Model(encoder_inputs, encoder_states)\n",
        "\n",
        "decoder_state_input_h = Input(shape=(latent_dim,))\n",
        "decoder_state_input_c = Input(shape=(latent_dim,))\n",
        "decoder_states_inputs = [decoder_state_input_h, decoder_state_input_c]\n",
        "decoder_outputs, state_h, state_c = decoder_lstm(\n",
        "    decoder_inputs, initial_state=decoder_states_inputs)\n",
        "decoder_states = [state_h, state_c]\n",
        "decoder_outputs = decoder_dense(decoder_outputs)\n",
        "decoder_model = Model(\n",
        "    [decoder_inputs] + decoder_states_inputs,\n",
        "    [decoder_outputs] + decoder_states)\n",
        "\n",
        "# reverse-Lookup token index to decode sequences back to something readable\n",
        "\n",
        "reverse_input_char_index = dict ([\n",
        "    (i,char) for i,char in enumerate(input_token_index)])\n",
        "reverse_target_char_index = dict ([\n",
        "    (i,char) for i,char in enumerate(target_token_index)]\n",
        ")\n",
        "\n",
        "\n",
        "\n",
        "def decode_sequence(input_seq):\n",
        "    # Encode the input as state vectors.\n",
        "    states_value = encoder_model.predict(input_seq)\n",
        "\n",
        "    # Generate empty target sequence of length 1.\n",
        "    target_seq = np.zeros((1, 1, num_decoder_tokens))\n",
        "    # Populate the first character of target sequence with the start character.\n",
        "    target_seq[0, 0, target_token_index['\\t']] = 1.\n",
        "\n",
        "    # Sampling loop for a batch of sequences\n",
        "    # (to simplify, here we assume a batch of size 1).\n",
        "    stop_condition = False\n",
        "    decoded_sentence = ''\n",
        "    while not stop_condition:\n",
        "        output_tokens, h, c = decoder_model.predict(\n",
        "            [target_seq] + states_value)\n",
        "\n",
        "        # Sample a token\n",
        "        sampled_token_index = np.argmax(output_tokens[0, -1, :])\n",
        "        sampled_char = reverse_target_char_index[sampled_token_index]\n",
        "        decoded_sentence += sampled_char\n",
        "\n",
        "        # Exit condition: either hit max length\n",
        "        # or find stop character.\n",
        "        if (sampled_char == '\\n' or\n",
        "           len(decoded_sentence) > max_decoder_seq_length):\n",
        "            stop_condition = True\n",
        "\n",
        "        # Update the target sequence (of length 1).\n",
        "        target_seq = np.zeros((1, 1, num_decoder_tokens))\n",
        "        target_seq[0, 0, sampled_token_index] = 1.\n",
        "\n",
        "        # Update states\n",
        "        states_value = [h, c]\n",
        "\n",
        "    return decoded_sentence\n",
        "\n",
        "\n",
        "\n",
        "\n",
        "for seq_index in range(10):\n",
        "  #take one sequence for training and trying out decoding\n",
        "  input_seq  = encoder_input_data[seq_index:seq_index+1]\n",
        "  decoded_sentence= decode_sequence(input_seq)\n",
        "\n",
        "  print(\"Input Sequence\",input_texts[seq_index])\n",
        "  print(\"decoded Sequence\",decoded_sentence)\n",
        "  \n",
        "  print(\"-----\")    "
      ],
      "execution_count": 22,
      "outputs": [
        {
          "output_type": "stream",
          "text": [
            "Input Sequence Go.\n",
            "decoded Sequence Va !\n",
            "\n",
            "-----\n",
            "Input Sequence Go.\n",
            "decoded Sequence Va !\n",
            "\n",
            "-----\n",
            "Input Sequence Go.\n",
            "decoded Sequence Va !\n",
            "\n",
            "-----\n",
            "Input Sequence Hi.\n",
            "decoded Sequence Salut !\n",
            "\n",
            "-----\n",
            "Input Sequence Hi.\n",
            "decoded Sequence Salut !\n",
            "\n",
            "-----\n",
            "Input Sequence Run!\n",
            "decoded Sequence Cours !\n",
            "\n",
            "-----\n",
            "Input Sequence Run!\n",
            "decoded Sequence Cours !\n",
            "\n",
            "-----\n",
            "Input Sequence Run!\n",
            "decoded Sequence Cours !\n",
            "\n",
            "-----\n",
            "Input Sequence Run!\n",
            "decoded Sequence Cours !\n",
            "\n",
            "-----\n",
            "Input Sequence Run!\n",
            "decoded Sequence Cours !\n",
            "\n",
            "-----\n"
          ],
          "name": "stdout"
        }
      ]
    }
  ]
}